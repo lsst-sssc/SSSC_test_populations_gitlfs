{
 "cells": [
  {
   "cell_type": "code",
   "execution_count": 1,
   "metadata": {},
   "outputs": [],
   "source": [
    "import os\n",
    "import numpy as np\n",
    "import pandas as pd\n",
    "import matplotlib.pyplot as plt\n",
    "%matplotlib inline\n",
    "from lsst.sims.movingObjects import Orbits"
   ]
  },
  {
   "cell_type": "code",
   "execution_count": 5,
   "metadata": {},
   "outputs": [
    {
     "data": {
      "text/plain": [
       "2000"
      ]
     },
     "execution_count": 5,
     "metadata": {},
     "output_type": "execute_result"
    }
   ],
   "source": [
    "modelfile = '/epyc/users/lynnej/sso/mbc/mbc.txt'\n",
    "# Input model file is in correct format for Orbits, although it does not contain SEDS\n",
    "orbits = Orbits()\n",
    "orbits.readOrbits(modelfile)\n",
    "len(orbits)"
   ]
  },
  {
   "cell_type": "code",
   "execution_count": 6,
   "metadata": {},
   "outputs": [
    {
     "data": {
      "text/html": [
       "<div>\n",
       "<style scoped>\n",
       "    .dataframe tbody tr th:only-of-type {\n",
       "        vertical-align: middle;\n",
       "    }\n",
       "\n",
       "    .dataframe tbody tr th {\n",
       "        vertical-align: top;\n",
       "    }\n",
       "\n",
       "    .dataframe thead th {\n",
       "        text-align: right;\n",
       "    }\n",
       "</style>\n",
       "<table border=\"1\" class=\"dataframe\">\n",
       "  <thead>\n",
       "    <tr style=\"text-align: right;\">\n",
       "      <th></th>\n",
       "      <th>objId</th>\n",
       "      <th>q</th>\n",
       "      <th>e</th>\n",
       "      <th>inc</th>\n",
       "      <th>Omega</th>\n",
       "      <th>argPeri</th>\n",
       "      <th>tPeri</th>\n",
       "      <th>H</th>\n",
       "      <th>epoch</th>\n",
       "      <th>g</th>\n",
       "      <th>sed_filename</th>\n",
       "    </tr>\n",
       "  </thead>\n",
       "  <tbody>\n",
       "    <tr>\n",
       "      <th>0</th>\n",
       "      <td>12300</td>\n",
       "      <td>2.337586</td>\n",
       "      <td>0.264554</td>\n",
       "      <td>16.81874</td>\n",
       "      <td>134.396722</td>\n",
       "      <td>275.26778</td>\n",
       "      <td>58575.69142</td>\n",
       "      <td>15.6</td>\n",
       "      <td>58200.0</td>\n",
       "      <td>0.15</td>\n",
       "      <td>C.dat</td>\n",
       "    </tr>\n",
       "    <tr>\n",
       "      <th>1</th>\n",
       "      <td>14888</td>\n",
       "      <td>2.483340</td>\n",
       "      <td>0.201567</td>\n",
       "      <td>2.27781</td>\n",
       "      <td>118.210152</td>\n",
       "      <td>221.07282</td>\n",
       "      <td>57816.15403</td>\n",
       "      <td>16.0</td>\n",
       "      <td>58200.0</td>\n",
       "      <td>0.15</td>\n",
       "      <td>S.dat</td>\n",
       "    </tr>\n",
       "    <tr>\n",
       "      <th>2</th>\n",
       "      <td>14246</td>\n",
       "      <td>2.598058</td>\n",
       "      <td>0.178019</td>\n",
       "      <td>17.61759</td>\n",
       "      <td>137.702971</td>\n",
       "      <td>55.04346</td>\n",
       "      <td>57178.60504</td>\n",
       "      <td>15.3</td>\n",
       "      <td>58200.0</td>\n",
       "      <td>0.15</td>\n",
       "      <td>S.dat</td>\n",
       "    </tr>\n",
       "    <tr>\n",
       "      <th>3</th>\n",
       "      <td>12444</td>\n",
       "      <td>2.526149</td>\n",
       "      <td>0.190049</td>\n",
       "      <td>16.51678</td>\n",
       "      <td>191.489664</td>\n",
       "      <td>300.82730</td>\n",
       "      <td>58670.47984</td>\n",
       "      <td>15.8</td>\n",
       "      <td>58200.0</td>\n",
       "      <td>0.15</td>\n",
       "      <td>S.dat</td>\n",
       "    </tr>\n",
       "    <tr>\n",
       "      <th>4</th>\n",
       "      <td>14122</td>\n",
       "      <td>2.373609</td>\n",
       "      <td>0.209246</td>\n",
       "      <td>1.65289</td>\n",
       "      <td>134.169566</td>\n",
       "      <td>161.31160</td>\n",
       "      <td>57793.08210</td>\n",
       "      <td>15.7</td>\n",
       "      <td>58200.0</td>\n",
       "      <td>0.15</td>\n",
       "      <td>C.dat</td>\n",
       "    </tr>\n",
       "  </tbody>\n",
       "</table>\n",
       "</div>"
      ],
      "text/plain": [
       "   objId         q         e       inc       Omega    argPeri        tPeri  \\\n",
       "0  12300  2.337586  0.264554  16.81874  134.396722  275.26778  58575.69142   \n",
       "1  14888  2.483340  0.201567   2.27781  118.210152  221.07282  57816.15403   \n",
       "2  14246  2.598058  0.178019  17.61759  137.702971   55.04346  57178.60504   \n",
       "3  12444  2.526149  0.190049  16.51678  191.489664  300.82730  58670.47984   \n",
       "4  14122  2.373609  0.209246   1.65289  134.169566  161.31160  57793.08210   \n",
       "\n",
       "      H    epoch     g sed_filename  \n",
       "0  15.6  58200.0  0.15        C.dat  \n",
       "1  16.0  58200.0  0.15        S.dat  \n",
       "2  15.3  58200.0  0.15        S.dat  \n",
       "3  15.8  58200.0  0.15        S.dat  \n",
       "4  15.7  58200.0  0.15        C.dat  "
      ]
     },
     "execution_count": 6,
     "metadata": {},
     "output_type": "execute_result"
    }
   ],
   "source": [
    "orbits.orbits[0:5]"
   ]
  },
  {
   "cell_type": "code",
   "execution_count": null,
   "metadata": {},
   "outputs": [],
   "source": []
  }
 ],
 "metadata": {
  "kernelspec": {
   "display_name": "Python 3 (sso-lc)",
   "language": "python",
   "name": "sso-lc"
  },
  "language_info": {
   "codemirror_mode": {
    "name": "ipython",
    "version": 3
   },
   "file_extension": ".py",
   "mimetype": "text/x-python",
   "name": "python",
   "nbconvert_exporter": "python",
   "pygments_lexer": "ipython3",
   "version": "3.6.7"
  }
 },
 "nbformat": 4,
 "nbformat_minor": 2
}
